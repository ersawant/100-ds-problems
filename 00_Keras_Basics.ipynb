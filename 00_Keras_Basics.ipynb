{
  "nbformat": 4,
  "nbformat_minor": 0,
  "metadata": {
    "kernelspec": {
      "display_name": "Python 2",
      "language": "python",
      "name": "python2"
    },
    "language_info": {
      "codemirror_mode": {
        "name": "ipython",
        "version": 2
      },
      "file_extension": ".py",
      "mimetype": "text/x-python",
      "name": "python",
      "nbconvert_exporter": "python",
      "pygments_lexer": "ipython2",
      "version": "2.7.15"
    },
    "colab": {
      "name": "00-Keras-Basics.ipynb",
      "version": "0.3.2",
      "provenance": [],
      "include_colab_link": true
    }
  },
  "cells": [
    {
      "cell_type": "markdown",
      "metadata": {
        "id": "view-in-github",
        "colab_type": "text"
      },
      "source": [
        "<a href=\"https://colab.research.google.com/github/ersawant/100-ds-problems/blob/master/00_Keras_Basics.ipynb\" target=\"_parent\"><img src=\"https://colab.research.google.com/assets/colab-badge.svg\" alt=\"Open In Colab\"/></a>"
      ]
    },
    {
      "cell_type": "markdown",
      "metadata": {
        "id": "fwIWaespzxm_",
        "colab_type": "text"
      },
      "source": [
        "___\n",
        "\n",
        "<a href='http://www.pieriandata.com'> <img src='../Pierian_Data_Logo.png' /></a>\n",
        "___\n",
        "\n",
        "# Keras Basics\n",
        "\n",
        "Welcome to the section on deep learning! We'll be using Keras with a TensorFlow backend to perform our deep learning operations.\n",
        "\n",
        "This means we should get familiar with some Keras fundamentals and basics!\n",
        "\n",
        "## Imports\n",
        "\n"
      ]
    },
    {
      "cell_type": "code",
      "metadata": {
        "id": "wtV0RM0izxnB",
        "colab_type": "code",
        "colab": {}
      },
      "source": [
        "import numpy as np"
      ],
      "execution_count": 0,
      "outputs": []
    },
    {
      "cell_type": "markdown",
      "metadata": {
        "id": "z7nINABgzxnI",
        "colab_type": "text"
      },
      "source": [
        "## Dataset\n",
        "\n",
        "We will use the famous Iris Data set.\n",
        "_____\n",
        "More info on the data set:\n",
        "https://en.wikipedia.org/wiki/Iris_flower_data_set\n",
        "\n",
        "## Reading in the Data Set\n",
        "\n",
        "We've already downloaded the dataset, its in this folder. So let's open it up. "
      ]
    },
    {
      "cell_type": "code",
      "metadata": {
        "id": "gIB1665SzxnJ",
        "colab_type": "code",
        "colab": {}
      },
      "source": [
        "from sklearn.datasets import load_iris"
      ],
      "execution_count": 0,
      "outputs": []
    },
    {
      "cell_type": "code",
      "metadata": {
        "id": "vgWkp5RzzxnN",
        "colab_type": "code",
        "colab": {}
      },
      "source": [
        "iris = load_iris()"
      ],
      "execution_count": 0,
      "outputs": []
    },
    {
      "cell_type": "code",
      "metadata": {
        "id": "ueqf6NhMzxnQ",
        "colab_type": "code",
        "colab": {
          "base_uri": "https://localhost:8080/",
          "height": 34
        },
        "outputId": "592146af-a01e-420a-b8ea-f40b40da2426"
      },
      "source": [
        "type(iris)"
      ],
      "execution_count": 4,
      "outputs": [
        {
          "output_type": "execute_result",
          "data": {
            "text/plain": [
              "sklearn.utils.Bunch"
            ]
          },
          "metadata": {
            "tags": []
          },
          "execution_count": 4
        }
      ]
    },
    {
      "cell_type": "code",
      "metadata": {
        "id": "vtY6ElqDzxnZ",
        "colab_type": "code",
        "colab": {
          "base_uri": "https://localhost:8080/",
          "height": 1000
        },
        "outputId": "fddc998a-2404-4338-d01e-d0e0bbdaeebc"
      },
      "source": [
        "print(iris.DESCR)"
      ],
      "execution_count": 5,
      "outputs": [
        {
          "output_type": "stream",
          "text": [
            ".. _iris_dataset:\n",
            "\n",
            "Iris plants dataset\n",
            "--------------------\n",
            "\n",
            "**Data Set Characteristics:**\n",
            "\n",
            "    :Number of Instances: 150 (50 in each of three classes)\n",
            "    :Number of Attributes: 4 numeric, predictive attributes and the class\n",
            "    :Attribute Information:\n",
            "        - sepal length in cm\n",
            "        - sepal width in cm\n",
            "        - petal length in cm\n",
            "        - petal width in cm\n",
            "        - class:\n",
            "                - Iris-Setosa\n",
            "                - Iris-Versicolour\n",
            "                - Iris-Virginica\n",
            "                \n",
            "    :Summary Statistics:\n",
            "\n",
            "    ============== ==== ==== ======= ===== ====================\n",
            "                    Min  Max   Mean    SD   Class Correlation\n",
            "    ============== ==== ==== ======= ===== ====================\n",
            "    sepal length:   4.3  7.9   5.84   0.83    0.7826\n",
            "    sepal width:    2.0  4.4   3.05   0.43   -0.4194\n",
            "    petal length:   1.0  6.9   3.76   1.76    0.9490  (high!)\n",
            "    petal width:    0.1  2.5   1.20   0.76    0.9565  (high!)\n",
            "    ============== ==== ==== ======= ===== ====================\n",
            "\n",
            "    :Missing Attribute Values: None\n",
            "    :Class Distribution: 33.3% for each of 3 classes.\n",
            "    :Creator: R.A. Fisher\n",
            "    :Donor: Michael Marshall (MARSHALL%PLU@io.arc.nasa.gov)\n",
            "    :Date: July, 1988\n",
            "\n",
            "The famous Iris database, first used by Sir R.A. Fisher. The dataset is taken\n",
            "from Fisher's paper. Note that it's the same as in R, but not as in the UCI\n",
            "Machine Learning Repository, which has two wrong data points.\n",
            "\n",
            "This is perhaps the best known database to be found in the\n",
            "pattern recognition literature.  Fisher's paper is a classic in the field and\n",
            "is referenced frequently to this day.  (See Duda & Hart, for example.)  The\n",
            "data set contains 3 classes of 50 instances each, where each class refers to a\n",
            "type of iris plant.  One class is linearly separable from the other 2; the\n",
            "latter are NOT linearly separable from each other.\n",
            "\n",
            ".. topic:: References\n",
            "\n",
            "   - Fisher, R.A. \"The use of multiple measurements in taxonomic problems\"\n",
            "     Annual Eugenics, 7, Part II, 179-188 (1936); also in \"Contributions to\n",
            "     Mathematical Statistics\" (John Wiley, NY, 1950).\n",
            "   - Duda, R.O., & Hart, P.E. (1973) Pattern Classification and Scene Analysis.\n",
            "     (Q327.D83) John Wiley & Sons.  ISBN 0-471-22361-1.  See page 218.\n",
            "   - Dasarathy, B.V. (1980) \"Nosing Around the Neighborhood: A New System\n",
            "     Structure and Classification Rule for Recognition in Partially Exposed\n",
            "     Environments\".  IEEE Transactions on Pattern Analysis and Machine\n",
            "     Intelligence, Vol. PAMI-2, No. 1, 67-71.\n",
            "   - Gates, G.W. (1972) \"The Reduced Nearest Neighbor Rule\".  IEEE Transactions\n",
            "     on Information Theory, May 1972, 431-433.\n",
            "   - See also: 1988 MLC Proceedings, 54-64.  Cheeseman et al\"s AUTOCLASS II\n",
            "     conceptual clustering system finds 3 classes in the data.\n",
            "   - Many, many more ...\n"
          ],
          "name": "stdout"
        }
      ]
    },
    {
      "cell_type": "code",
      "metadata": {
        "id": "29Aimx_1zxne",
        "colab_type": "code",
        "colab": {}
      },
      "source": [
        "X = iris.data"
      ],
      "execution_count": 0,
      "outputs": []
    },
    {
      "cell_type": "code",
      "metadata": {
        "id": "q5r9tjDzzxni",
        "colab_type": "code",
        "colab": {
          "base_uri": "https://localhost:8080/",
          "height": 34
        },
        "outputId": "89d5a645-96e1-444d-92d0-5605716c9bbc"
      },
      "source": [
        "from IPython.display import Image\n",
        "Image(\"iris.png\")"
      ],
      "execution_count": 7,
      "outputs": [
        {
          "output_type": "execute_result",
          "data": {
            "image/png": "aXJpcy5wbmc=\n",
            "text/plain": [
              "<IPython.core.display.Image object>"
            ]
          },
          "metadata": {
            "tags": []
          },
          "execution_count": 7
        }
      ]
    },
    {
      "cell_type": "code",
      "metadata": {
        "id": "JO04lI4sz9Hh",
        "colab_type": "code",
        "colab": {}
      },
      "source": [
        ""
      ],
      "execution_count": 0,
      "outputs": []
    },
    {
      "cell_type": "code",
      "metadata": {
        "id": "fGb-V53_zxnn",
        "colab_type": "code",
        "colab": {
          "base_uri": "https://localhost:8080/",
          "height": 34
        },
        "outputId": "b9c7cb02-a710-44c2-f847-5d967d792472"
      },
      "source": [
        "X[1]"
      ],
      "execution_count": 14,
      "outputs": [
        {
          "output_type": "execute_result",
          "data": {
            "text/plain": [
              "array([4.9, 3. , 1.4, 0.2])"
            ]
          },
          "metadata": {
            "tags": []
          },
          "execution_count": 14
        }
      ]
    },
    {
      "cell_type": "code",
      "metadata": {
        "id": "ntQG-48lzxns",
        "colab_type": "code",
        "colab": {}
      },
      "source": [
        "y = iris.target"
      ],
      "execution_count": 0,
      "outputs": []
    },
    {
      "cell_type": "code",
      "metadata": {
        "id": "z3ZqS5bczxnw",
        "colab_type": "code",
        "colab": {},
        "outputId": "6b680a9a-b3fe-48b3-d889-dcbceadd01eb"
      },
      "source": [
        "y"
      ],
      "execution_count": 0,
      "outputs": [
        {
          "output_type": "execute_result",
          "data": {
            "text/plain": [
              "array([0, 0, 0, 0, 0, 0, 0, 0, 0, 0, 0, 0, 0, 0, 0, 0, 0, 0, 0, 0, 0, 0,\n",
              "       0, 0, 0, 0, 0, 0, 0, 0, 0, 0, 0, 0, 0, 0, 0, 0, 0, 0, 0, 0, 0, 0,\n",
              "       0, 0, 0, 0, 0, 0, 1, 1, 1, 1, 1, 1, 1, 1, 1, 1, 1, 1, 1, 1, 1, 1,\n",
              "       1, 1, 1, 1, 1, 1, 1, 1, 1, 1, 1, 1, 1, 1, 1, 1, 1, 1, 1, 1, 1, 1,\n",
              "       1, 1, 1, 1, 1, 1, 1, 1, 1, 1, 1, 1, 2, 2, 2, 2, 2, 2, 2, 2, 2, 2,\n",
              "       2, 2, 2, 2, 2, 2, 2, 2, 2, 2, 2, 2, 2, 2, 2, 2, 2, 2, 2, 2, 2, 2,\n",
              "       2, 2, 2, 2, 2, 2, 2, 2, 2, 2, 2, 2, 2, 2, 2, 2, 2, 2])"
            ]
          },
          "metadata": {
            "tags": []
          },
          "execution_count": 9
        }
      ]
    },
    {
      "cell_type": "code",
      "metadata": {
        "id": "3t7snA45zxn1",
        "colab_type": "code",
        "colab": {
          "base_uri": "https://localhost:8080/",
          "height": 34
        },
        "outputId": "42ae5167-1b53-4bdf-8e7c-be16962ab663"
      },
      "source": [
        "from keras.utils import to_categorical"
      ],
      "execution_count": 16,
      "outputs": [
        {
          "output_type": "stream",
          "text": [
            "Using TensorFlow backend.\n"
          ],
          "name": "stderr"
        }
      ]
    },
    {
      "cell_type": "code",
      "metadata": {
        "id": "IcuLycnDzxn7",
        "colab_type": "code",
        "colab": {}
      },
      "source": [
        "y = to_categorical(y)"
      ],
      "execution_count": 0,
      "outputs": []
    },
    {
      "cell_type": "code",
      "metadata": {
        "id": "Sl46P_ZWzxn_",
        "colab_type": "code",
        "colab": {
          "base_uri": "https://localhost:8080/",
          "height": 34
        },
        "outputId": "89898b87-c4e6-439f-d8b2-13c95f1dcd18"
      },
      "source": [
        "y.shape"
      ],
      "execution_count": 18,
      "outputs": [
        {
          "output_type": "execute_result",
          "data": {
            "text/plain": [
              "(150, 3)"
            ]
          },
          "metadata": {
            "tags": []
          },
          "execution_count": 18
        }
      ]
    },
    {
      "cell_type": "code",
      "metadata": {
        "id": "FHHKssmBzxoD",
        "colab_type": "code",
        "colab": {
          "base_uri": "https://localhost:8080/",
          "height": 34
        },
        "outputId": "53ed5241-83ae-401c-eb57-00879a854db0"
      },
      "source": [
        "y[0]"
      ],
      "execution_count": 20,
      "outputs": [
        {
          "output_type": "execute_result",
          "data": {
            "text/plain": [
              "array([1., 0., 0.], dtype=float32)"
            ]
          },
          "metadata": {
            "tags": []
          },
          "execution_count": 20
        }
      ]
    },
    {
      "cell_type": "markdown",
      "metadata": {
        "id": "GEoT2dy6zxoJ",
        "colab_type": "text"
      },
      "source": [
        "## Split the Data into Training and Test\n",
        "\n",
        "Its time to split the data into a train/test set. Keep in mind, sometimes people like to split 3 ways, train/test/validation. We'll keep things simple for now. **Remember to check out the video explanation as to why we split and what all the parameters mean!**"
      ]
    },
    {
      "cell_type": "code",
      "metadata": {
        "id": "EGeXVmh2zxoM",
        "colab_type": "code",
        "colab": {}
      },
      "source": [
        "from sklearn.model_selection import train_test_split"
      ],
      "execution_count": 0,
      "outputs": []
    },
    {
      "cell_type": "code",
      "metadata": {
        "id": "C6KL3fU4zxoZ",
        "colab_type": "code",
        "colab": {}
      },
      "source": [
        "  X_train, X_test, y_train, y_test = train_test_split(X, y, test_size=0.33, random_state=42)"
      ],
      "execution_count": 0,
      "outputs": []
    },
    {
      "cell_type": "code",
      "metadata": {
        "id": "o0P-ai7rzxod",
        "colab_type": "code",
        "colab": {
          "base_uri": "https://localhost:8080/",
          "height": 34
        },
        "outputId": "5e9c0977-0ffc-44e8-8482-c13b0a6fe148"
      },
      "source": [
        "X_train.shape"
      ],
      "execution_count": 31,
      "outputs": [
        {
          "output_type": "execute_result",
          "data": {
            "text/plain": [
              "(100, 4)"
            ]
          },
          "metadata": {
            "tags": []
          },
          "execution_count": 31
        }
      ]
    },
    {
      "cell_type": "code",
      "metadata": {
        "id": "YZrHxX5Nzxoj",
        "colab_type": "code",
        "colab": {
          "base_uri": "https://localhost:8080/",
          "height": 34
        },
        "outputId": "f59b1910-fc04-47d7-8794-bcff268d8781"
      },
      "source": [
        "X_test[0]"
      ],
      "execution_count": 30,
      "outputs": [
        {
          "output_type": "execute_result",
          "data": {
            "text/plain": [
              "array([6.1, 2.8, 4.7, 1.2])"
            ]
          },
          "metadata": {
            "tags": []
          },
          "execution_count": 30
        }
      ]
    },
    {
      "cell_type": "code",
      "metadata": {
        "id": "s6zG6VO_zxow",
        "colab_type": "code",
        "colab": {
          "base_uri": "https://localhost:8080/",
          "height": 34
        },
        "outputId": "794039b9-ab05-40df-d7a3-a35f9ca9cd8e"
      },
      "source": [
        "y_train.shape\n"
      ],
      "execution_count": 32,
      "outputs": [
        {
          "output_type": "execute_result",
          "data": {
            "text/plain": [
              "(100, 3)"
            ]
          },
          "metadata": {
            "tags": []
          },
          "execution_count": 32
        }
      ]
    },
    {
      "cell_type": "code",
      "metadata": {
        "id": "_PtX68rqzxo1",
        "colab_type": "code",
        "colab": {
          "base_uri": "https://localhost:8080/",
          "height": 34
        },
        "outputId": "2d279fda-4b17-40c7-9387-e6b3d64675e3"
      },
      "source": [
        "y_test.shape"
      ],
      "execution_count": 33,
      "outputs": [
        {
          "output_type": "execute_result",
          "data": {
            "text/plain": [
              "(50, 3)"
            ]
          },
          "metadata": {
            "tags": []
          },
          "execution_count": 33
        }
      ]
    },
    {
      "cell_type": "markdown",
      "metadata": {
        "id": "xWycL1Rgzxo5",
        "colab_type": "text"
      },
      "source": [
        "## Standardizing the Data\n",
        "\n",
        "Usually when using Neural Networks, you will get better performance when you standardize the data. Standardization just means normalizing the values to all fit between a certain range, like 0-1, or -1 to 1.\n",
        "\n",
        "The scikit learn library also provides a nice function for this.\n",
        "\n",
        "http://scikit-learn.org/stable/modules/generated/sklearn.preprocessing.MinMaxScaler.html"
      ]
    },
    {
      "cell_type": "code",
      "metadata": {
        "id": "u7S75LyJzxo6",
        "colab_type": "code",
        "colab": {}
      },
      "source": [
        "from sklearn.preprocessing import MinMaxScaler"
      ],
      "execution_count": 0,
      "outputs": []
    },
    {
      "cell_type": "code",
      "metadata": {
        "id": "VN8fZ5jzzxo-",
        "colab_type": "code",
        "colab": {}
      },
      "source": [
        "scaler_object = MinMaxScaler()"
      ],
      "execution_count": 0,
      "outputs": []
    },
    {
      "cell_type": "code",
      "metadata": {
        "id": "v1BQg9pmzxpB",
        "colab_type": "code",
        "colab": {
          "base_uri": "https://localhost:8080/",
          "height": 34
        },
        "outputId": "f6675793-716c-49ec-ca18-c48e46351e4c"
      },
      "source": [
        "scaler_object.fit(X_train)"
      ],
      "execution_count": 36,
      "outputs": [
        {
          "output_type": "execute_result",
          "data": {
            "text/plain": [
              "MinMaxScaler(copy=True, feature_range=(0, 1))"
            ]
          },
          "metadata": {
            "tags": []
          },
          "execution_count": 36
        }
      ]
    },
    {
      "cell_type": "code",
      "metadata": {
        "id": "hiIqJurjzxpF",
        "colab_type": "code",
        "colab": {}
      },
      "source": [
        "scaled_X_train = scaler_object.transform(X_train)"
      ],
      "execution_count": 0,
      "outputs": []
    },
    {
      "cell_type": "code",
      "metadata": {
        "id": "NOzt2zV8zxpI",
        "colab_type": "code",
        "colab": {}
      },
      "source": [
        "scaled_X_test = scaler_object.transform(X_test)"
      ],
      "execution_count": 0,
      "outputs": []
    },
    {
      "cell_type": "markdown",
      "metadata": {
        "id": "A9p0MFGPzxpN",
        "colab_type": "text"
      },
      "source": [
        "Ok, now we have the data scaled!"
      ]
    },
    {
      "cell_type": "code",
      "metadata": {
        "id": "jp6OmoL5zxpO",
        "colab_type": "code",
        "colab": {
          "base_uri": "https://localhost:8080/",
          "height": 34
        },
        "outputId": "ace724d4-f3f4-4de7-e454-ab9d3d129f1f"
      },
      "source": [
        "X_train.max()"
      ],
      "execution_count": 39,
      "outputs": [
        {
          "output_type": "execute_result",
          "data": {
            "text/plain": [
              "7.7"
            ]
          },
          "metadata": {
            "tags": []
          },
          "execution_count": 39
        }
      ]
    },
    {
      "cell_type": "code",
      "metadata": {
        "id": "2GNiTKmtzxpX",
        "colab_type": "code",
        "colab": {
          "base_uri": "https://localhost:8080/",
          "height": 34
        },
        "outputId": "f32a281e-e24c-4209-8e43-2933d6a78418"
      },
      "source": [
        "scaled_X_train.max()"
      ],
      "execution_count": 40,
      "outputs": [
        {
          "output_type": "execute_result",
          "data": {
            "text/plain": [
              "1.0"
            ]
          },
          "metadata": {
            "tags": []
          },
          "execution_count": 40
        }
      ]
    },
    {
      "cell_type": "code",
      "metadata": {
        "id": "js2yA9ivzxpf",
        "colab_type": "code",
        "colab": {
          "base_uri": "https://localhost:8080/",
          "height": 34
        },
        "outputId": "08b96720-5fb3-4c65-83be-33b88a0fb804"
      },
      "source": [
        "X_train[0]"
      ],
      "execution_count": 43,
      "outputs": [
        {
          "output_type": "execute_result",
          "data": {
            "text/plain": [
              "array([5.7, 2.9, 4.2, 1.3])"
            ]
          },
          "metadata": {
            "tags": []
          },
          "execution_count": 43
        }
      ]
    },
    {
      "cell_type": "code",
      "metadata": {
        "id": "QaOX3gx9zxpk",
        "colab_type": "code",
        "colab": {
          "base_uri": "https://localhost:8080/",
          "height": 34
        },
        "outputId": "60bca408-f229-4738-a21f-f9f45dbf7fec"
      },
      "source": [
        "scaled_X_train[0]"
      ],
      "execution_count": 44,
      "outputs": [
        {
          "output_type": "execute_result",
          "data": {
            "text/plain": [
              "array([0.41176471, 0.40909091, 0.55357143, 0.5       ])"
            ]
          },
          "metadata": {
            "tags": []
          },
          "execution_count": 44
        }
      ]
    },
    {
      "cell_type": "code",
      "metadata": {
        "id": "92zSeKeczxpq",
        "colab_type": "code",
        "colab": {}
      },
      "source": [
        ""
      ],
      "execution_count": 0,
      "outputs": []
    },
    {
      "cell_type": "markdown",
      "metadata": {
        "id": "NjoVryAjzxpt",
        "colab_type": "text"
      },
      "source": [
        "## Building the Network with Keras\n",
        "\n",
        "Let's build a simple neural network!"
      ]
    },
    {
      "cell_type": "code",
      "metadata": {
        "id": "QRHG4BDKzxpu",
        "colab_type": "code",
        "colab": {}
      },
      "source": [
        ""
      ],
      "execution_count": 0,
      "outputs": []
    },
    {
      "cell_type": "code",
      "metadata": {
        "id": "PHoB3fslzxpy",
        "colab_type": "code",
        "colab": {}
      },
      "source": [
        "from keras.models import Sequential\n",
        "from keras.layers import Dense"
      ],
      "execution_count": 0,
      "outputs": []
    },
    {
      "cell_type": "code",
      "metadata": {
        "id": "pj7U3E9n7HKr",
        "colab_type": "code",
        "colab": {}
      },
      "source": [
        "model = Sequential()\n",
        "model.add(Dense(8, input_dim=4, activation='relu'))\n",
        "model.add(Dense(8, input_dim=4, activation='relu'))"
      ],
      "execution_count": 0,
      "outputs": []
    },
    {
      "cell_type": "code",
      "metadata": {
        "id": "vB3HFlgmzxp1",
        "colab_type": "code",
        "colab": {}
      },
      "source": [
        "\n",
        "model.add(Dense(3, activation='softmax'))\n",
        "model.compile(loss='categorical_crossentropy', optimizer='adam', metrics=['accuracy'])"
      ],
      "execution_count": 0,
      "outputs": []
    },
    {
      "cell_type": "code",
      "metadata": {
        "id": "YRM3Z4MXzxp4",
        "colab_type": "code",
        "colab": {
          "base_uri": "https://localhost:8080/",
          "height": 403
        },
        "outputId": "eff54581-fafc-4ef4-e07f-7c98b015a290"
      },
      "source": [
        "model.summary()"
      ],
      "execution_count": 63,
      "outputs": [
        {
          "output_type": "stream",
          "text": [
            "_________________________________________________________________\n",
            "Layer (type)                 Output Shape              Param #   \n",
            "=================================================================\n",
            "dense_4 (Dense)              (None, 8)                 40        \n",
            "_________________________________________________________________\n",
            "dense_5 (Dense)              (None, 8)                 72        \n",
            "_________________________________________________________________\n",
            "dense_6 (Dense)              (None, 3)                 27        \n",
            "_________________________________________________________________\n",
            "dense_7 (Dense)              (None, 3)                 12        \n",
            "_________________________________________________________________\n",
            "dense_8 (Dense)              (None, 3)                 12        \n",
            "_________________________________________________________________\n",
            "dense_9 (Dense)              (None, 3)                 12        \n",
            "_________________________________________________________________\n",
            "dense_10 (Dense)             (None, 3)                 12        \n",
            "_________________________________________________________________\n",
            "dense_11 (Dense)             (None, 3)                 12        \n",
            "=================================================================\n",
            "Total params: 199\n",
            "Trainable params: 199\n",
            "Non-trainable params: 0\n",
            "_________________________________________________________________\n"
          ],
          "name": "stdout"
        }
      ]
    },
    {
      "cell_type": "markdown",
      "metadata": {
        "id": "jKP6JzHrzxqB",
        "colab_type": "text"
      },
      "source": [
        "## Fit (Train) the Model"
      ]
    },
    {
      "cell_type": "code",
      "metadata": {
        "id": "AEjK3lYNzxqD",
        "colab_type": "code",
        "colab": {
          "base_uri": "https://localhost:8080/",
          "height": 1000
        },
        "outputId": "95a2f542-0f48-4345-c116-81182bb539d5"
      },
      "source": [
        "# Play around with number of epochs as well!\n",
        "model.fit(scaled_X_train,y_train,epochs=150, verbose=2)"
      ],
      "execution_count": 64,
      "outputs": [
        {
          "output_type": "stream",
          "text": [
            "Epoch 1/150\n",
            " - 1s - loss: 1.1435 - acc: 0.3500\n",
            "Epoch 2/150\n",
            " - 0s - loss: 1.1421 - acc: 0.3500\n",
            "Epoch 3/150\n",
            " - 0s - loss: 1.1404 - acc: 0.3500\n",
            "Epoch 4/150\n",
            " - 0s - loss: 1.1392 - acc: 0.3500\n",
            "Epoch 5/150\n",
            " - 0s - loss: 1.1379 - acc: 0.3500\n",
            "Epoch 6/150\n",
            " - 0s - loss: 1.1367 - acc: 0.3500\n",
            "Epoch 7/150\n",
            " - 0s - loss: 1.1355 - acc: 0.3500\n",
            "Epoch 8/150\n",
            " - 0s - loss: 1.1343 - acc: 0.3500\n",
            "Epoch 9/150\n",
            " - 0s - loss: 1.1329 - acc: 0.3500\n",
            "Epoch 10/150\n",
            " - 0s - loss: 1.1318 - acc: 0.3500\n",
            "Epoch 11/150\n",
            " - 0s - loss: 1.1303 - acc: 0.3500\n",
            "Epoch 12/150\n",
            " - 0s - loss: 1.1290 - acc: 0.3500\n",
            "Epoch 13/150\n",
            " - 0s - loss: 1.1277 - acc: 0.3500\n",
            "Epoch 14/150\n",
            " - 0s - loss: 1.1267 - acc: 0.3500\n",
            "Epoch 15/150\n",
            " - 0s - loss: 1.1255 - acc: 0.3500\n",
            "Epoch 16/150\n",
            " - 0s - loss: 1.1240 - acc: 0.3500\n",
            "Epoch 17/150\n",
            " - 0s - loss: 1.1226 - acc: 0.3500\n",
            "Epoch 18/150\n",
            " - 0s - loss: 1.1214 - acc: 0.3500\n",
            "Epoch 19/150\n",
            " - 0s - loss: 1.1202 - acc: 0.3500\n",
            "Epoch 20/150\n",
            " - 0s - loss: 1.1192 - acc: 0.3500\n",
            "Epoch 21/150\n",
            " - 0s - loss: 1.1179 - acc: 0.3500\n",
            "Epoch 22/150\n",
            " - 0s - loss: 1.1170 - acc: 0.3500\n",
            "Epoch 23/150\n",
            " - 0s - loss: 1.1160 - acc: 0.3500\n",
            "Epoch 24/150\n",
            " - 0s - loss: 1.1150 - acc: 0.3500\n",
            "Epoch 25/150\n",
            " - 0s - loss: 1.1142 - acc: 0.3500\n",
            "Epoch 26/150\n",
            " - 0s - loss: 1.1136 - acc: 0.3500\n",
            "Epoch 27/150\n",
            " - 0s - loss: 1.1128 - acc: 0.3500\n",
            "Epoch 28/150\n",
            " - 0s - loss: 1.1123 - acc: 0.3500\n",
            "Epoch 29/150\n",
            " - 0s - loss: 1.1120 - acc: 0.3500\n",
            "Epoch 30/150\n",
            " - 0s - loss: 1.1115 - acc: 0.3500\n",
            "Epoch 31/150\n",
            " - 0s - loss: 1.1110 - acc: 0.3500\n",
            "Epoch 32/150\n",
            " - 0s - loss: 1.1105 - acc: 0.3500\n",
            "Epoch 33/150\n",
            " - 0s - loss: 1.1099 - acc: 0.3500\n",
            "Epoch 34/150\n",
            " - 0s - loss: 1.1092 - acc: 0.3500\n",
            "Epoch 35/150\n",
            " - 0s - loss: 1.1084 - acc: 0.3500\n",
            "Epoch 36/150\n",
            " - 0s - loss: 1.1080 - acc: 0.3500\n",
            "Epoch 37/150\n",
            " - 0s - loss: 1.1072 - acc: 0.3500\n",
            "Epoch 38/150\n",
            " - 0s - loss: 1.1067 - acc: 0.3500\n",
            "Epoch 39/150\n",
            " - 0s - loss: 1.1063 - acc: 0.3500\n",
            "Epoch 40/150\n",
            " - 0s - loss: 1.1060 - acc: 0.3500\n",
            "Epoch 41/150\n",
            " - 0s - loss: 1.1058 - acc: 0.3500\n",
            "Epoch 42/150\n",
            " - 0s - loss: 1.1056 - acc: 0.3500\n",
            "Epoch 43/150\n",
            " - 0s - loss: 1.1053 - acc: 0.3500\n",
            "Epoch 44/150\n",
            " - 0s - loss: 1.1052 - acc: 0.3500\n",
            "Epoch 45/150\n",
            " - 0s - loss: 1.1047 - acc: 0.3500\n",
            "Epoch 46/150\n",
            " - 0s - loss: 1.1046 - acc: 0.3500\n",
            "Epoch 47/150\n",
            " - 0s - loss: 1.1044 - acc: 0.3500\n",
            "Epoch 48/150\n",
            " - 0s - loss: 1.1042 - acc: 0.3500\n",
            "Epoch 49/150\n",
            " - 0s - loss: 1.1042 - acc: 0.3500\n",
            "Epoch 50/150\n",
            " - 0s - loss: 1.1041 - acc: 0.3500\n",
            "Epoch 51/150\n",
            " - 0s - loss: 1.1041 - acc: 0.3500\n",
            "Epoch 52/150\n",
            " - 0s - loss: 1.1041 - acc: 0.3500\n",
            "Epoch 53/150\n",
            " - 0s - loss: 1.1042 - acc: 0.3500\n",
            "Epoch 54/150\n",
            " - 0s - loss: 1.1042 - acc: 0.3500\n",
            "Epoch 55/150\n",
            " - 0s - loss: 1.1039 - acc: 0.3500\n",
            "Epoch 56/150\n",
            " - 0s - loss: 1.1036 - acc: 0.3500\n",
            "Epoch 57/150\n",
            " - 0s - loss: 1.1032 - acc: 0.3500\n",
            "Epoch 58/150\n",
            " - 0s - loss: 1.1029 - acc: 0.3500\n",
            "Epoch 59/150\n",
            " - 0s - loss: 1.1026 - acc: 0.3500\n",
            "Epoch 60/150\n",
            " - 0s - loss: 1.1022 - acc: 0.3500\n",
            "Epoch 61/150\n",
            " - 0s - loss: 1.1021 - acc: 0.3500\n",
            "Epoch 62/150\n",
            " - 0s - loss: 1.1019 - acc: 0.3500\n",
            "Epoch 63/150\n",
            " - 0s - loss: 1.1017 - acc: 0.3500\n",
            "Epoch 64/150\n",
            " - 0s - loss: 1.1014 - acc: 0.3500\n",
            "Epoch 65/150\n",
            " - 0s - loss: 1.1012 - acc: 0.3500\n",
            "Epoch 66/150\n",
            " - 0s - loss: 1.1010 - acc: 0.3500\n",
            "Epoch 67/150\n",
            " - 0s - loss: 1.1009 - acc: 0.3500\n",
            "Epoch 68/150\n",
            " - 0s - loss: 1.1007 - acc: 0.3400\n",
            "Epoch 69/150\n",
            " - 0s - loss: 1.1005 - acc: 0.3400\n",
            "Epoch 70/150\n",
            " - 0s - loss: 1.1004 - acc: 0.3400\n",
            "Epoch 71/150\n",
            " - 0s - loss: 1.1005 - acc: 0.2800\n",
            "Epoch 72/150\n",
            " - 0s - loss: 1.1003 - acc: 0.3500\n",
            "Epoch 73/150\n",
            " - 0s - loss: 1.1001 - acc: 0.3500\n",
            "Epoch 74/150\n",
            " - 0s - loss: 1.1000 - acc: 0.3500\n",
            "Epoch 75/150\n",
            " - 0s - loss: 1.0999 - acc: 0.3500\n",
            "Epoch 76/150\n",
            " - 0s - loss: 1.0997 - acc: 0.3500\n",
            "Epoch 77/150\n",
            " - 0s - loss: 1.0996 - acc: 0.3500\n",
            "Epoch 78/150\n",
            " - 0s - loss: 1.0996 - acc: 0.3500\n",
            "Epoch 79/150\n",
            " - 0s - loss: 1.0994 - acc: 0.3500\n",
            "Epoch 80/150\n",
            " - 0s - loss: 1.0993 - acc: 0.3500\n",
            "Epoch 81/150\n",
            " - 0s - loss: 1.0993 - acc: 0.3500\n",
            "Epoch 82/150\n",
            " - 0s - loss: 1.0992 - acc: 0.3500\n",
            "Epoch 83/150\n",
            " - 0s - loss: 1.0990 - acc: 0.3500\n",
            "Epoch 84/150\n",
            " - 0s - loss: 1.0990 - acc: 0.3500\n",
            "Epoch 85/150\n",
            " - 0s - loss: 1.0991 - acc: 0.3500\n",
            "Epoch 86/150\n",
            " - 0s - loss: 1.0990 - acc: 0.3500\n",
            "Epoch 87/150\n",
            " - 0s - loss: 1.0989 - acc: 0.3500\n",
            "Epoch 88/150\n",
            " - 0s - loss: 1.0988 - acc: 0.3500\n",
            "Epoch 89/150\n",
            " - 0s - loss: 1.0986 - acc: 0.3500\n",
            "Epoch 90/150\n",
            " - 0s - loss: 1.0985 - acc: 0.3500\n",
            "Epoch 91/150\n",
            " - 0s - loss: 1.0983 - acc: 0.3500\n",
            "Epoch 92/150\n",
            " - 0s - loss: 1.0982 - acc: 0.3500\n",
            "Epoch 93/150\n",
            " - 0s - loss: 1.0981 - acc: 0.3500\n",
            "Epoch 94/150\n",
            " - 0s - loss: 1.0980 - acc: 0.3500\n",
            "Epoch 95/150\n",
            " - 0s - loss: 1.0981 - acc: 0.3500\n",
            "Epoch 96/150\n",
            " - 0s - loss: 1.0979 - acc: 0.3500\n",
            "Epoch 97/150\n",
            " - 0s - loss: 1.0977 - acc: 0.3500\n",
            "Epoch 98/150\n",
            " - 0s - loss: 1.0975 - acc: 0.3500\n",
            "Epoch 99/150\n",
            " - 0s - loss: 1.0974 - acc: 0.3500\n",
            "Epoch 100/150\n",
            " - 0s - loss: 1.0973 - acc: 0.3500\n",
            "Epoch 101/150\n",
            " - 0s - loss: 1.0970 - acc: 0.3500\n",
            "Epoch 102/150\n",
            " - 0s - loss: 1.0967 - acc: 0.3500\n",
            "Epoch 103/150\n",
            " - 0s - loss: 1.0964 - acc: 0.3500\n",
            "Epoch 104/150\n",
            " - 0s - loss: 1.0960 - acc: 0.3500\n",
            "Epoch 105/150\n",
            " - 0s - loss: 1.0959 - acc: 0.3500\n",
            "Epoch 106/150\n",
            " - 0s - loss: 1.0956 - acc: 0.3500\n",
            "Epoch 107/150\n",
            " - 0s - loss: 1.0952 - acc: 0.3500\n",
            "Epoch 108/150\n",
            " - 0s - loss: 1.0950 - acc: 0.3500\n",
            "Epoch 109/150\n",
            " - 0s - loss: 1.0947 - acc: 0.3500\n",
            "Epoch 110/150\n",
            " - 0s - loss: 1.0943 - acc: 0.3500\n",
            "Epoch 111/150\n",
            " - 0s - loss: 1.0939 - acc: 0.3500\n",
            "Epoch 112/150\n",
            " - 0s - loss: 1.0935 - acc: 0.3500\n",
            "Epoch 113/150\n",
            " - 0s - loss: 1.0933 - acc: 0.3500\n",
            "Epoch 114/150\n",
            " - 0s - loss: 1.0927 - acc: 0.3500\n",
            "Epoch 115/150\n",
            " - 0s - loss: 1.0925 - acc: 0.3500\n",
            "Epoch 116/150\n",
            " - 0s - loss: 1.0921 - acc: 0.3500\n",
            "Epoch 117/150\n",
            " - 0s - loss: 1.0919 - acc: 0.3500\n",
            "Epoch 118/150\n",
            " - 0s - loss: 1.0916 - acc: 0.3500\n",
            "Epoch 119/150\n",
            " - 0s - loss: 1.0914 - acc: 0.3500\n",
            "Epoch 120/150\n",
            " - 0s - loss: 1.0910 - acc: 0.3500\n",
            "Epoch 121/150\n",
            " - 0s - loss: 1.0906 - acc: 0.3500\n",
            "Epoch 122/150\n",
            " - 0s - loss: 1.0903 - acc: 0.3500\n",
            "Epoch 123/150\n",
            " - 0s - loss: 1.0898 - acc: 0.3500\n",
            "Epoch 124/150\n",
            " - 0s - loss: 1.0894 - acc: 0.3500\n",
            "Epoch 125/150\n",
            " - 0s - loss: 1.0890 - acc: 0.3500\n",
            "Epoch 126/150\n",
            " - 0s - loss: 1.0885 - acc: 0.3500\n",
            "Epoch 127/150\n",
            " - 0s - loss: 1.0881 - acc: 0.3500\n",
            "Epoch 128/150\n",
            " - 0s - loss: 1.0877 - acc: 0.3500\n",
            "Epoch 129/150\n",
            " - 0s - loss: 1.0874 - acc: 0.3500\n",
            "Epoch 130/150\n",
            " - 0s - loss: 1.0870 - acc: 0.3500\n",
            "Epoch 131/150\n",
            " - 0s - loss: 1.0865 - acc: 0.3500\n",
            "Epoch 132/150\n",
            " - 0s - loss: 1.0860 - acc: 0.3500\n",
            "Epoch 133/150\n",
            " - 0s - loss: 1.0856 - acc: 0.3500\n",
            "Epoch 134/150\n",
            " - 0s - loss: 1.0853 - acc: 0.3500\n",
            "Epoch 135/150\n",
            " - 0s - loss: 1.0850 - acc: 0.3500\n",
            "Epoch 136/150\n",
            " - 0s - loss: 1.0845 - acc: 0.3500\n",
            "Epoch 137/150\n",
            " - 0s - loss: 1.0840 - acc: 0.3500\n",
            "Epoch 138/150\n",
            " - 0s - loss: 1.0835 - acc: 0.3500\n",
            "Epoch 139/150\n",
            " - 0s - loss: 1.0829 - acc: 0.3500\n",
            "Epoch 140/150\n",
            " - 0s - loss: 1.0825 - acc: 0.3500\n",
            "Epoch 141/150\n",
            " - 0s - loss: 1.0819 - acc: 0.3500\n",
            "Epoch 142/150\n",
            " - 0s - loss: 1.0813 - acc: 0.3500\n",
            "Epoch 143/150\n",
            " - 0s - loss: 1.0807 - acc: 0.3500\n",
            "Epoch 144/150\n",
            " - 0s - loss: 1.0802 - acc: 0.3500\n",
            "Epoch 145/150\n",
            " - 0s - loss: 1.0795 - acc: 0.3500\n",
            "Epoch 146/150\n",
            " - 0s - loss: 1.0790 - acc: 0.3500\n",
            "Epoch 147/150\n",
            " - 0s - loss: 1.0785 - acc: 0.3500\n",
            "Epoch 148/150\n",
            " - 0s - loss: 1.0778 - acc: 0.3500\n",
            "Epoch 149/150\n",
            " - 0s - loss: 1.0772 - acc: 0.3500\n",
            "Epoch 150/150\n",
            " - 0s - loss: 1.0766 - acc: 0.3500\n"
          ],
          "name": "stdout"
        },
        {
          "output_type": "execute_result",
          "data": {
            "text/plain": [
              "<keras.callbacks.History at 0x7fc3036cb7d0>"
            ]
          },
          "metadata": {
            "tags": []
          },
          "execution_count": 64
        }
      ]
    },
    {
      "cell_type": "markdown",
      "metadata": {
        "id": "N9CBGmBHzxqI",
        "colab_type": "text"
      },
      "source": [
        "## Predicting New Unseen Data\n",
        "\n",
        "Let's see how we did by predicting on **new data**. Remember, our model has **never** seen the test data that we scaled previously! This process is the exact same process you would use on totally brand new data. For example , a brand new bank note that you just analyzed ."
      ]
    },
    {
      "cell_type": "code",
      "metadata": {
        "id": "iZjcEnF7zxqJ",
        "colab_type": "code",
        "colab": {
          "base_uri": "https://localhost:8080/",
          "height": 34
        },
        "outputId": "930c4904-d34b-49b0-a7a9-a8d423bc1424"
      },
      "source": [
        "scaled_X_test[0]"
      ],
      "execution_count": 66,
      "outputs": [
        {
          "output_type": "execute_result",
          "data": {
            "text/plain": [
              "array([0.52941176, 0.36363636, 0.64285714, 0.45833333])"
            ]
          },
          "metadata": {
            "tags": []
          },
          "execution_count": 66
        }
      ]
    },
    {
      "cell_type": "code",
      "metadata": {
        "id": "LCvKpr4PzxqO",
        "colab_type": "code",
        "colab": {}
      },
      "source": [
        "# Spits out probabilities by default.\n",
        "# model.predict(scaled_X_test)"
      ],
      "execution_count": 0,
      "outputs": []
    },
    {
      "cell_type": "code",
      "metadata": {
        "id": "8_JKZyarzxqX",
        "colab_type": "code",
        "colab": {
          "base_uri": "https://localhost:8080/",
          "height": 67
        },
        "outputId": "e8148187-90e7-4929-a97f-a2aa80860ce0"
      },
      "source": [
        "model.predict_classes(scaled_X_test)"
      ],
      "execution_count": 68,
      "outputs": [
        {
          "output_type": "execute_result",
          "data": {
            "text/plain": [
              "array([1, 2, 1, 1, 1, 2, 1, 1, 1, 1, 1, 2, 2, 2, 2, 1, 1, 1, 1, 1, 2, 1,\n",
              "       2, 1, 1, 1, 1, 1, 2, 2, 2, 2, 1, 2, 2, 1, 1, 2, 2, 2, 1, 1, 1, 2,\n",
              "       2, 1, 1, 1, 1, 1])"
            ]
          },
          "metadata": {
            "tags": []
          },
          "execution_count": 68
        }
      ]
    },
    {
      "cell_type": "markdown",
      "metadata": {
        "id": "KruoewI_zxqk",
        "colab_type": "text"
      },
      "source": [
        "# Evaluating Model Performance\n",
        "\n",
        "So how well did we do? How do we actually measure \"well\". Is 95% accuracy good enough? It all depends on the situation. Also we need to take into account things like recall and precision. Make sure to watch the video discussion on classification evaluation before running this code!"
      ]
    },
    {
      "cell_type": "code",
      "metadata": {
        "id": "uKyPjBZFzxql",
        "colab_type": "code",
        "colab": {
          "base_uri": "https://localhost:8080/",
          "height": 34
        },
        "outputId": "c3c50d74-f70c-45ad-956f-1e309730039b"
      },
      "source": [
        "model.metrics_names"
      ],
      "execution_count": 69,
      "outputs": [
        {
          "output_type": "execute_result",
          "data": {
            "text/plain": [
              "['loss', 'acc']"
            ]
          },
          "metadata": {
            "tags": []
          },
          "execution_count": 69
        }
      ]
    },
    {
      "cell_type": "code",
      "metadata": {
        "id": "tLENQVinzxqx",
        "colab_type": "code",
        "colab": {
          "base_uri": "https://localhost:8080/",
          "height": 50
        },
        "outputId": "0069660c-a955-4dea-bc39-bce046c5b6d6"
      },
      "source": [
        "model.evaluate(x=scaled_X_test,y=y_test)"
      ],
      "execution_count": 70,
      "outputs": [
        {
          "output_type": "stream",
          "text": [
            "50/50 [==============================] - 0s 3ms/step\n"
          ],
          "name": "stdout"
        },
        {
          "output_type": "execute_result",
          "data": {
            "text/plain": [
              "[1.0868086624145508, 0.3000000035762787]"
            ]
          },
          "metadata": {
            "tags": []
          },
          "execution_count": 70
        }
      ]
    },
    {
      "cell_type": "code",
      "metadata": {
        "id": "_A3SvoQizxq2",
        "colab_type": "code",
        "colab": {}
      },
      "source": [
        "from sklearn.metrics import confusion_matrix,classification_report"
      ],
      "execution_count": 0,
      "outputs": []
    },
    {
      "cell_type": "code",
      "metadata": {
        "id": "1VnErwQBzxq6",
        "colab_type": "code",
        "colab": {}
      },
      "source": [
        "predictions = model.predict_classes(scaled_X_test)"
      ],
      "execution_count": 0,
      "outputs": []
    },
    {
      "cell_type": "code",
      "metadata": {
        "id": "nkon_9W1zxq-",
        "colab_type": "code",
        "colab": {
          "base_uri": "https://localhost:8080/",
          "height": 67
        },
        "outputId": "136bb5db-91cd-4a2e-a625-8439aaf6d09f"
      },
      "source": [
        "predictions"
      ],
      "execution_count": 73,
      "outputs": [
        {
          "output_type": "execute_result",
          "data": {
            "text/plain": [
              "array([1, 2, 1, 1, 1, 2, 1, 1, 1, 1, 1, 2, 2, 2, 2, 1, 1, 1, 1, 1, 2, 1,\n",
              "       2, 1, 1, 1, 1, 1, 2, 2, 2, 2, 1, 2, 2, 1, 1, 2, 2, 2, 1, 1, 1, 2,\n",
              "       2, 1, 1, 1, 1, 1])"
            ]
          },
          "metadata": {
            "tags": []
          },
          "execution_count": 73
        }
      ]
    },
    {
      "cell_type": "code",
      "metadata": {
        "id": "QjwStefPzxrD",
        "colab_type": "code",
        "colab": {
          "base_uri": "https://localhost:8080/",
          "height": 67
        },
        "outputId": "07ed9ebf-1cd0-4589-9694-45681373fb55"
      },
      "source": [
        "y_test.argmax(axis=1)"
      ],
      "execution_count": 76,
      "outputs": [
        {
          "output_type": "execute_result",
          "data": {
            "text/plain": [
              "array([1, 0, 2, 1, 1, 0, 1, 2, 1, 1, 2, 0, 0, 0, 0, 1, 2, 1, 1, 2, 0, 2,\n",
              "       0, 2, 2, 2, 2, 2, 0, 0, 0, 0, 1, 0, 0, 2, 1, 0, 0, 0, 2, 1, 1, 0,\n",
              "       0, 1, 2, 2, 1, 2])"
            ]
          },
          "metadata": {
            "tags": []
          },
          "execution_count": 76
        }
      ]
    },
    {
      "cell_type": "code",
      "metadata": {
        "id": "mv_RVknBzxrJ",
        "colab_type": "code",
        "colab": {
          "base_uri": "https://localhost:8080/",
          "height": 67
        },
        "outputId": "b9f5e3dc-2ba2-4ebe-d9df-003944a8249d"
      },
      "source": [
        "confusion_matrix(y_test.argmax(axis=1),predictions)"
      ],
      "execution_count": 77,
      "outputs": [
        {
          "output_type": "execute_result",
          "data": {
            "text/plain": [
              "array([[ 0,  0, 19],\n",
              "       [ 0, 15,  0],\n",
              "       [ 0, 16,  0]])"
            ]
          },
          "metadata": {
            "tags": []
          },
          "execution_count": 77
        }
      ]
    },
    {
      "cell_type": "code",
      "metadata": {
        "id": "6D4kaXrozxrO",
        "colab_type": "code",
        "colab": {
          "base_uri": "https://localhost:8080/",
          "height": 185
        },
        "outputId": "d0988939-1614-4d67-dd37-64a8005e2202"
      },
      "source": [
        "print(classification_report(y_test.argmax(axis=1),predictions))"
      ],
      "execution_count": 85,
      "outputs": [
        {
          "output_type": "stream",
          "text": [
            "              precision    recall  f1-score   support\n",
            "\n",
            "           0       0.00      0.00      0.00        19\n",
            "           1       0.48      1.00      0.65        15\n",
            "           2       0.00      0.00      0.00        16\n",
            "\n",
            "   micro avg       0.30      0.30      0.30        50\n",
            "   macro avg       0.16      0.33      0.22        50\n",
            "weighted avg       0.15      0.30      0.20        50\n",
            "\n"
          ],
          "name": "stdout"
        }
      ]
    },
    {
      "cell_type": "markdown",
      "metadata": {
        "id": "KmTXwVDpzxrV",
        "colab_type": "text"
      },
      "source": [
        "## Saving and Loading Models\n",
        "\n",
        "Now that we have a model trained, let's see how we can save and load it."
      ]
    },
    {
      "cell_type": "code",
      "metadata": {
        "id": "TQksqKs-zxrX",
        "colab_type": "code",
        "colab": {}
      },
      "source": [
        "model.save('myfirstmodel.h5')"
      ],
      "execution_count": 0,
      "outputs": []
    },
    {
      "cell_type": "code",
      "metadata": {
        "id": "5O_1lJ89zxra",
        "colab_type": "code",
        "colab": {}
      },
      "source": [
        "from keras.models import load_model"
      ],
      "execution_count": 0,
      "outputs": []
    },
    {
      "cell_type": "code",
      "metadata": {
        "id": "PVzD3jrmzxre",
        "colab_type": "code",
        "colab": {}
      },
      "source": [
        "newmodel = load_model('myfirstmodel.h5')"
      ],
      "execution_count": 0,
      "outputs": []
    },
    {
      "cell_type": "code",
      "metadata": {
        "id": "CsUYAP2pzxrh",
        "colab_type": "code",
        "colab": {
          "base_uri": "https://localhost:8080/",
          "height": 67
        },
        "outputId": "879b65ab-e320-46a2-8353-bd2c537de6b7"
      },
      "source": [
        "newmodel.predict_classes(X_test)"
      ],
      "execution_count": 89,
      "outputs": [
        {
          "output_type": "execute_result",
          "data": {
            "text/plain": [
              "array([2, 2, 2, 2, 2, 2, 2, 2, 2, 2, 2, 2, 2, 2, 2, 2, 2, 2, 2, 2, 2, 2,\n",
              "       2, 2, 2, 2, 2, 2, 2, 2, 2, 2, 2, 2, 2, 2, 2, 2, 2, 2, 2, 2, 2, 2,\n",
              "       2, 2, 2, 2, 2, 2])"
            ]
          },
          "metadata": {
            "tags": []
          },
          "execution_count": 89
        }
      ]
    },
    {
      "cell_type": "code",
      "metadata": {
        "id": "Lt8PGRfAzxrl",
        "colab_type": "code",
        "colab": {
          "base_uri": "https://localhost:8080/",
          "height": 34
        },
        "outputId": "65c2d16a-6811-491b-98bf-a5f14e2a4d36"
      },
      "source": [
        "from IPython.display import Image\n",
        "Image(\"nn-iris.png\")"
      ],
      "execution_count": 90,
      "outputs": [
        {
          "output_type": "execute_result",
          "data": {
            "image/png": "bm4taXJpcy5wbmc=\n",
            "text/plain": [
              "<IPython.core.display.Image object>"
            ]
          },
          "metadata": {
            "tags": []
          },
          "execution_count": 90
        }
      ]
    },
    {
      "cell_type": "markdown",
      "metadata": {
        "id": "1d_Zt3xjzxrr",
        "colab_type": "text"
      },
      "source": [
        "Great job! You now know how to preprocess data, train a neural network, and evaluate its classification performance!"
      ]
    },
    {
      "cell_type": "code",
      "metadata": {
        "id": "m2tgzABROPrV",
        "colab_type": "code",
        "colab": {}
      },
      "source": [
        ""
      ],
      "execution_count": 0,
      "outputs": []
    }
  ]
}